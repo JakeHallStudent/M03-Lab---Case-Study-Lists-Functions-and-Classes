{
 "cells": [
  {
   "cell_type": "code",
   "execution_count": 3,
   "id": "d4e9c915",
   "metadata": {},
   "outputs": [
    {
     "name": "stdout",
     "output_type": "stream",
     "text": [
      "Enter year: 2022\n",
      "Enter make: Kia\n",
      "Enter model: Forte\n",
      "Enter number of doors: 4\n",
      "Enter roof type: solid\n",
      "Vehicle type: car\n",
      "Year: 2022\n",
      "Make: Kia\n",
      "Model: Forte\n",
      "Number of Doors: 4\n",
      "Type of roof: solid\n"
     ]
    }
   ],
   "source": [
    "#Jake Hall\n",
    "#M03 Lab - Case Study Lists, Functions, and Classes.ipynb\n",
    "#This application asks users to input car information and then organizes and outputs that information in a readable format\n",
    "\n",
    "\n",
    "class Vehicle:\n",
    "    def __init__(self, vehicle_type):\n",
    "        self.vehicle_type = vehicle_type\n",
    "    \n",
    "    \n",
    "    \n",
    "class Automobile(Vehicle):\n",
    "    def __init__(self, vehicle_type, year, make, model, doors, roof):\n",
    "        Vehicle.__init__(self, vehicle_type)\n",
    "        self.year = year\n",
    "        self.make = make\n",
    "        self.model = model\n",
    "        self.doors = doors\n",
    "        self.roof = roof\n",
    "    \n",
    "    \n",
    "    \n",
    "    def __str__(self):\n",
    "        return \"Vehicle type: \" + self.vehicle_type + \"\\nYear: \" +  self.year + \"\\nMake: \" + self.make + \"\\nModel: \" + self.model + \"\\nNumber of Doors: \" + self.doors + \"\\nType of roof: \" + self.roof\n",
    "    \n",
    "\n",
    "    \n",
    "if __name__ == \"__main__\":    \n",
    "    year = input(\"Enter year: \")\n",
    "    make = input(\"Enter make: \")\n",
    "    model = input(\"Enter model: \")\n",
    "    doors = input(\"Enter number of doors: \")\n",
    "    roof = input(\"Enter roof type: \")\n",
    "    carObj = Automobile(\"car\", year, make, model, doors, roof)\n",
    "    print(carObj)"
   ]
  },
  {
   "cell_type": "code",
   "execution_count": null,
   "id": "dd8470ba",
   "metadata": {},
   "outputs": [],
   "source": []
  }
 ],
 "metadata": {
  "kernelspec": {
   "display_name": "Python 3 (ipykernel)",
   "language": "python",
   "name": "python3"
  },
  "language_info": {
   "codemirror_mode": {
    "name": "ipython",
    "version": 3
   },
   "file_extension": ".py",
   "mimetype": "text/x-python",
   "name": "python",
   "nbconvert_exporter": "python",
   "pygments_lexer": "ipython3",
   "version": "3.11.4"
  }
 },
 "nbformat": 4,
 "nbformat_minor": 5
}
